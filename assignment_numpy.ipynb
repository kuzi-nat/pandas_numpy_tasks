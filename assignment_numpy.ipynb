{
 "cells": [
  {
   "cell_type": "markdown",
   "id": "d3df79dd",
   "metadata": {},
   "source": [
    "## Упражнения по библиотеке Numpy"
   ]
  },
  {
   "cell_type": "code",
   "execution_count": 1,
   "id": "76b9c43b",
   "metadata": {},
   "outputs": [],
   "source": [
    "import numpy as np"
   ]
  },
  {
   "cell_type": "markdown",
   "id": "03727b7c",
   "metadata": {},
   "source": [
    "**1.** Дан случайный массив, поменять знак у элементов, значения которых между 3 и 8"
   ]
  },
  {
   "cell_type": "code",
   "execution_count": 84,
   "id": "b89a7523",
   "metadata": {},
   "outputs": [
    {
     "data": {
      "text/plain": [
       "array([ 0,  7,  3, -3,  7, -3,  4,  5,  0,  6])"
      ]
     },
     "execution_count": 84,
     "metadata": {},
     "output_type": "execute_result"
    }
   ],
   "source": [
    "arr = np.random.randint(-3, 10, 10)\n",
    "arr"
   ]
  },
  {
   "cell_type": "code",
   "execution_count": 87,
   "id": "de1c2b77-692d-4c4f-94ee-268494f924be",
   "metadata": {},
   "outputs": [
    {
     "data": {
      "text/plain": [
       "array([ 0, -7,  3, -3, -7, -3, -4, -5,  0, -6])"
      ]
     },
     "execution_count": 87,
     "metadata": {},
     "output_type": "execute_result"
    }
   ],
   "source": [
    "#вариант 2: arr[np.logical_and(arr > 3, arr < 8)] *= -1\n",
    "\n",
    "arr = np.where([(arr > 3) & (arr < 8)], arr * -1, arr)\n",
    "arr"
   ]
  },
  {
   "cell_type": "markdown",
   "id": "5fa4abda",
   "metadata": {},
   "source": [
    "**2.** Заменить максимальный элемент случайного массива на 0"
   ]
  },
  {
   "cell_type": "code",
   "execution_count": 64,
   "id": "f2788a6e",
   "metadata": {},
   "outputs": [
    {
     "data": {
      "text/plain": [
       "array([10, 15, 25, 15, 12,  1, 14,  9, 18, 27])"
      ]
     },
     "execution_count": 64,
     "metadata": {},
     "output_type": "execute_result"
    }
   ],
   "source": [
    "arr2 = np.random.randint(-5, 30, 10)\n",
    "arr2"
   ]
  },
  {
   "cell_type": "code",
   "execution_count": 65,
   "id": "664a40d6-b41f-4788-8bbb-92c1d72cce2c",
   "metadata": {},
   "outputs": [
    {
     "data": {
      "text/plain": [
       "array([10, 15, 25, 15, 12,  1, 14,  9, 18,  0])"
      ]
     },
     "execution_count": 65,
     "metadata": {},
     "output_type": "execute_result"
    }
   ],
   "source": [
    "arr2[np.argmax(arr2)] = 0\n",
    "arr2"
   ]
  },
  {
   "cell_type": "markdown",
   "id": "3cac656b",
   "metadata": {},
   "source": [
    "**3.** Построить прямое произведение массивов (все комбинации с каждым элементом). На вход подается двумерный массив"
   ]
  },
  {
   "cell_type": "code",
   "execution_count": 83,
   "id": "3396b764",
   "metadata": {},
   "outputs": [
    {
     "data": {
      "text/plain": [
       "array([[8, 3, 8],\n",
       "       [3, 0, 6]])"
      ]
     },
     "execution_count": 83,
     "metadata": {},
     "output_type": "execute_result"
    }
   ],
   "source": [
    "c = np.random.randint(0, 10, size = (2,3))\n",
    "c"
   ]
  },
  {
   "cell_type": "code",
   "execution_count": 84,
   "id": "1b40d0d3-7d17-48af-b1d4-c95f66a4fcf5",
   "metadata": {},
   "outputs": [
    {
     "data": {
      "text/plain": [
       "array([[7, 4],\n",
       "       [7, 6]])"
      ]
     },
     "execution_count": 84,
     "metadata": {},
     "output_type": "execute_result"
    }
   ],
   "source": [
    "d = np.random.randint(0, 10, size = (2,2))\n",
    "d"
   ]
  },
  {
   "cell_type": "code",
   "execution_count": 85,
   "id": "667d64cb-6f5b-445c-b26b-69f4975cb5e1",
   "metadata": {},
   "outputs": [
    {
     "data": {
      "text/plain": [
       "array([[56, 32, 56, 48],\n",
       "       [21, 12, 21, 18],\n",
       "       [56, 32, 56, 48],\n",
       "       [21, 12, 21, 18],\n",
       "       [ 0,  0,  0,  0],\n",
       "       [42, 24, 42, 36]])"
      ]
     },
     "execution_count": 85,
     "metadata": {},
     "output_type": "execute_result"
    }
   ],
   "source": [
    "result = np.outer(c, d)\n",
    "result"
   ]
  },
  {
   "cell_type": "markdown",
   "id": "674c9354",
   "metadata": {},
   "source": [
    "**4.** Даны 2 массива A (8x3) и B (2x2). Найти строки в A, которые содержат элементы из каждой строки в B, независимо от порядка элементов в B"
   ]
  },
  {
   "cell_type": "code",
   "execution_count": 161,
   "id": "cb664782",
   "metadata": {},
   "outputs": [
    {
     "data": {
      "text/plain": [
       "array([[2, 5, 6],\n",
       "       [9, 4, 1],\n",
       "       [1, 5, 7]])"
      ]
     },
     "execution_count": 161,
     "metadata": {},
     "output_type": "execute_result"
    }
   ],
   "source": [
    "a = np.array([[2, 5, 6],\n",
    "       [7, 9, 7],\n",
    "       [6, 3, 1],\n",
    "       [9, 4, 1],\n",
    "       [0, 9, 2],\n",
    "       [1, 5, 7],\n",
    "       [3, 0, 4],\n",
    "       [9, 4, 4]])\n",
    "\n",
    "b = np.array([[9, 5],\n",
    "       [6, 1]])\n",
    "\n",
    "result = []\n",
    "for row in a:\n",
    "   if np.any(np.isin(row, b[0])) & np.any(np.isin(row, b[1])):\n",
    "       result.append(row)\n",
    "np.array(result)     \n",
    "# result = [row for row in a if np.any(np.isin(row, b[0])) & np.any(np.isin(row, b[1]))]\n"
   ]
  },
  {
   "cell_type": "markdown",
   "id": "fa46533b",
   "metadata": {},
   "source": [
    "**5.** Дана 10x3 матрица, найти строки из неравных значений (например строка [2,2,3] остается, строка [3,3,3] удаляется)"
   ]
  },
  {
   "cell_type": "code",
   "execution_count": 30,
   "id": "fa545b23",
   "metadata": {},
   "outputs": [
    {
     "data": {
      "text/plain": [
       "array([False,  True,  True,  True,  True, False,  True, False,  True,\n",
       "        True])"
      ]
     },
     "execution_count": 30,
     "metadata": {},
     "output_type": "execute_result"
    }
   ],
   "source": [
    "m = np.array([[2, 2, 2],\n",
    "       [5, 1, 4],\n",
    "       [5, 0, 3],\n",
    "       [3, 7, 4],\n",
    "       [2, 3, 4],\n",
    "       [7, 7, 7],\n",
    "       [4, 1, 6],\n",
    "       [0, 0, 0],\n",
    "       [8, 7, 9],\n",
    "       [7, 7, 9]])\n",
    "\n",
    "#new_array = []\n",
    "#for i in range(len(m)):\n",
    "#    if len(np.unique(m[i])) > 1:\n",
    "#        new_array.append(m[i])\n",
    "#np.array(new_array)\n",
    "\n",
    "result = m[np.any(m != m[:, 0][:, None], axis = 1)]\n",
    "result\n"
   ]
  },
  {
   "cell_type": "markdown",
   "id": "28f0d116",
   "metadata": {},
   "source": [
    "**6.** Дан двумерный массив. Удалить те строки, которые повторяются"
   ]
  },
  {
   "cell_type": "code",
   "execution_count": 98,
   "id": "83d2c0b7",
   "metadata": {},
   "outputs": [
    {
     "data": {
      "text/plain": [
       "array([[2, 2, 2, 5],\n",
       "       [5, 1, 4, 5],\n",
       "       [5, 0, 3, 8],\n",
       "       [0, 0, 0, 0],\n",
       "       [7, 7, 7, 1],\n",
       "       [8, 7, 9, 7]])"
      ]
     },
     "execution_count": 98,
     "metadata": {},
     "output_type": "execute_result"
    }
   ],
   "source": [
    "n = np.array([[2, 2, 2, 5],\n",
    "       [5, 1, 4, 5],\n",
    "       [5, 0, 3, 8],\n",
    "       [5, 1, 4, 5],\n",
    "       [0, 0, 0, 0],\n",
    "       [7, 7, 7, 1],\n",
    "       [7, 7, 7, 1],\n",
    "       [0, 0, 0, 0],\n",
    "       [8, 7, 9, 7],\n",
    "       [5, 1, 4, 5]])\n",
    "\n",
    "unique_rows, unique_indices = np.unique(n, axis=0, return_index=True)    #unique_rows будет содержать уникальные строки, unique_indices будет содержать индексы первого вхождения каждой уникальной строки).\n",
    "unique_rows = n[np.sort(unique_indices)] \n",
    "unique_rows"
   ]
  },
  {
   "cell_type": "markdown",
   "id": "6daa9e37",
   "metadata": {},
   "source": [
    "______\n",
    "______"
   ]
  },
  {
   "cell_type": "markdown",
   "id": "cfbfcaff",
   "metadata": {},
   "source": [
    "Для каждой из следующих задач (1-5) нужно привести 2 реализации – одна без использования numpy (cчитайте, что там, где на входе или выходе должны быть numpy array, будут просто списки), а вторая полностью векторизованная с использованием numpy (без использования питоновских циклов/map/list comprehension).\n",
    "\n",
    "\n",
    "__Замечание 1.__ Можно считать, что все указанные объекты непустые (к примеру, в __задаче 1__ на диагонали матрицы есть ненулевые элементы).\n",
    "\n",
    "__Замечание 2.__ Для большинства задач решение занимает не больше 1-2 строк."
   ]
  },
  {
   "cell_type": "markdown",
   "id": "673cac7f",
   "metadata": {},
   "source": [
    "___"
   ]
  },
  {
   "cell_type": "markdown",
   "id": "ca6f585e",
   "metadata": {},
   "source": [
    "* __Задача 1__: Подсчитать произведение ненулевых элементов на диагонали прямоугольной матрицы.  \n",
    " Например, для X = np.array([[1, 0, 1], [2, 0, 2], [3, 0, 3], [4, 4, 4]]) ответ 3."
   ]
  },
  {
   "cell_type": "code",
   "execution_count": 5,
   "id": "7272c7b4-a829-45d7-91d1-e5d67143a4c2",
   "metadata": {},
   "outputs": [
    {
     "data": {
      "text/plain": [
       "array([[1, 0, 1],\n",
       "       [2, 0, 2],\n",
       "       [3, 0, 3],\n",
       "       [4, 4, 4]])"
      ]
     },
     "execution_count": 5,
     "metadata": {},
     "output_type": "execute_result"
    }
   ],
   "source": [
    "matrix = np.array([[1, 0, 1], [2, 0, 2], [3, 0, 3], [4, 4, 4]])\n",
    "matrix"
   ]
  },
  {
   "cell_type": "markdown",
   "id": "addc54d9-311c-4ee4-aca0-fd06a411ddd3",
   "metadata": {},
   "source": [
    "Решение без использования NumPy:"
   ]
  },
  {
   "cell_type": "code",
   "execution_count": 48,
   "id": "d07c8efc-e188-4e48-810e-b828723cc36d",
   "metadata": {},
   "outputs": [
    {
     "name": "stdout",
     "output_type": "stream",
     "text": [
      "3\n"
     ]
    }
   ],
   "source": [
    "product = 1\n",
    "for i in range(len(matrix[0])):\n",
    "    if matrix[i][i] != 0:\n",
    "        product *= matrix[i][i]\n",
    "print(product)\n"
   ]
  },
  {
   "cell_type": "markdown",
   "id": "2dc6d432-7e0a-4caa-8c8d-07d4394e7a2b",
   "metadata": {},
   "source": [
    "Решение с использованием NumPy:"
   ]
  },
  {
   "cell_type": "code",
   "execution_count": 49,
   "id": "a1c7e89b-f6ab-433d-a32a-c50a25e67df0",
   "metadata": {},
   "outputs": [
    {
     "name": "stdout",
     "output_type": "stream",
     "text": [
      "3\n"
     ]
    }
   ],
   "source": [
    "diag = np.diag(matrix)\n",
    "product2 = np.prod(diag[diag != 0])\n",
    "print(product2)"
   ]
  },
  {
   "cell_type": "markdown",
   "id": "9fc51d41",
   "metadata": {},
   "source": [
    "* __Задача 2__: Даны два вектора x и y. Проверить, задают ли они одно и то же мультимножество.  \n",
    "  Например, для x = np.array([1, 2, 2, 4]), y = np.array([4, 2, 1, 2]) ответ True."
   ]
  },
  {
   "cell_type": "code",
   "execution_count": 50,
   "id": "545a8b68-5334-4c9f-9c91-e6877963bbb3",
   "metadata": {},
   "outputs": [],
   "source": [
    "x = np.array([1, 2, 2, 4])\n",
    "y = np.array([4, 2, 1, 2])"
   ]
  },
  {
   "cell_type": "markdown",
   "id": "1cb28a71-5f2a-48c6-a145-f892982b5606",
   "metadata": {},
   "source": [
    "Решение без использования NumPy:"
   ]
  },
  {
   "cell_type": "code",
   "execution_count": 51,
   "id": "a809e02f",
   "metadata": {},
   "outputs": [
    {
     "data": {
      "text/plain": [
       "True"
      ]
     },
     "execution_count": 51,
     "metadata": {},
     "output_type": "execute_result"
    }
   ],
   "source": [
    "sorted(x) == sorted(y)"
   ]
  },
  {
   "cell_type": "markdown",
   "id": "32af64b7-10fb-4bb9-a98a-48ad4d240343",
   "metadata": {},
   "source": [
    "Решение с использованием NumPy:"
   ]
  },
  {
   "cell_type": "code",
   "execution_count": 52,
   "id": "4ae60f94-b8bf-43c3-9bee-265df99698a5",
   "metadata": {},
   "outputs": [
    {
     "data": {
      "text/plain": [
       "True"
      ]
     },
     "execution_count": 52,
     "metadata": {},
     "output_type": "execute_result"
    }
   ],
   "source": [
    "np.array_equal(np.sort(x), np.sort(y))"
   ]
  },
  {
   "cell_type": "markdown",
   "id": "b9c185c7",
   "metadata": {},
   "source": [
    "* __Задача 3__: Найти максимальный элемент в векторе x среди элементов, перед которыми стоит ноль. \n",
    " Например, для x = np.array([6, 2, 0, 3, 0, 0, 5, 7, 0]) ответ 5."
   ]
  },
  {
   "cell_type": "code",
   "execution_count": 53,
   "id": "2f6af850-d0c1-434e-8bb9-e8e8dd079f22",
   "metadata": {},
   "outputs": [],
   "source": [
    "x = np.array([6, 2, 0, 3, 0, 0, 5, 7, 0])"
   ]
  },
  {
   "cell_type": "markdown",
   "id": "d931af89-9274-4ef0-bb6f-c21281258525",
   "metadata": {},
   "source": [
    "Решение без использования NumPy:"
   ]
  },
  {
   "cell_type": "code",
   "execution_count": 54,
   "id": "b57df008",
   "metadata": {},
   "outputs": [
    {
     "name": "stdout",
     "output_type": "stream",
     "text": [
      "5\n"
     ]
    }
   ],
   "source": [
    "max_val = 0\n",
    "for i in range(1, len(x)):\n",
    "    if x[i - 1] == 0:\n",
    "        max_val = max(max_val, x[i])\n",
    "print(max_val)"
   ]
  },
  {
   "cell_type": "markdown",
   "id": "9ccec84a-dee4-4ae6-90ea-bcac54571de2",
   "metadata": {},
   "source": [
    "Решение с использованием NumPy:"
   ]
  },
  {
   "cell_type": "code",
   "execution_count": 55,
   "id": "db57a4cd-371d-4195-9338-49a7821120ed",
   "metadata": {},
   "outputs": [
    {
     "name": "stdout",
     "output_type": "stream",
     "text": [
      "5\n"
     ]
    }
   ],
   "source": [
    "indices = np.where(x[:-1] == 0)[0] + 1\n",
    "print(np.max(x[indices]))"
   ]
  },
  {
   "cell_type": "markdown",
   "id": "480be4ce",
   "metadata": {},
   "source": [
    "* __Задача 4__: Реализовать кодирование длин серий (Run-length encoding). Для некоторого вектора x необходимо вернуть кортеж из двух векторов одинаковой длины. Первый содержит числа, а второй - сколько раз их нужно повторить.  \n",
    " Например, для x = np.array([2, 2, 2, 3, 3, 3, 5]) ответ (np.array([2, 3, 5]), np.array([3, 3, 1]))."
   ]
  },
  {
   "cell_type": "code",
   "execution_count": 56,
   "id": "3c7ff218-4cd6-44e3-b28b-0ab35da1a0ce",
   "metadata": {},
   "outputs": [],
   "source": [
    "x = np.array([2, 2, 2, 3, 3, 3, 5, 5]) "
   ]
  },
  {
   "cell_type": "markdown",
   "id": "95a86ff6-6642-485a-b2d3-99d016d3c0db",
   "metadata": {},
   "source": [
    "Решение без использования NumPy:"
   ]
  },
  {
   "cell_type": "code",
   "execution_count": 57,
   "id": "03dd28fc-2aec-405f-8cb3-17a78dfe314f",
   "metadata": {},
   "outputs": [
    {
     "name": "stdout",
     "output_type": "stream",
     "text": [
      "([2, 3, 5], [3, 3, 2])\n"
     ]
    }
   ],
   "source": [
    "values = []\n",
    "counts = []\n",
    "\n",
    "current_value = x[0]\n",
    "count = 1\n",
    "for i in range(1, len(x)):\n",
    "    if x[i] == current_value:\n",
    "        count += 1\n",
    "    else:\n",
    "            values.append(current_value)\n",
    "            counts.append(count)\n",
    "            current_value = x[i]\n",
    "            count = 1\n",
    "        \n",
    "values.append(current_value)\n",
    "counts.append(count)\n",
    "\n",
    "result = (values, counts)\n",
    "print(result)"
   ]
  },
  {
   "cell_type": "markdown",
   "id": "c3e11c1c-223d-4559-9795-e6d062342a72",
   "metadata": {},
   "source": [
    "Решение с использованием NumPy:"
   ]
  },
  {
   "cell_type": "code",
   "execution_count": 58,
   "id": "f35bc288-c5c3-4d8b-be4c-2d70abc9e0b6",
   "metadata": {},
   "outputs": [
    {
     "name": "stdout",
     "output_type": "stream",
     "text": [
      "(array([2, 3, 5]), array([3, 3, 2], dtype=int64))\n"
     ]
    }
   ],
   "source": [
    "changes = np.where(np.diff(x) != 0)[0] + 1        # Находим границы изменения значений\n",
    "values = np.concatenate(([x[0]], x[changes]))     # Значения\n",
    "counts = np.diff(np.append(0, changes))    \n",
    "counts = np.append(counts, len(x) - changes[-1])  # Повторения\n",
    "result = (values, counts)\n",
    "print(result)"
   ]
  },
  {
   "cell_type": "markdown",
   "id": "077532ec",
   "metadata": {},
   "source": [
    "* __Задача 5__: Даны две выборки объектов - X и Y. Вычислить матрицу евклидовых расстояний между объектами. Сравните с функцией scipy.spatial.distance.cdist по скорости работы."
   ]
  },
  {
   "cell_type": "code",
   "execution_count": 17,
   "id": "e4b592f4-06a9-4160-8c10-0d8cccc014e7",
   "metadata": {},
   "outputs": [],
   "source": [
    "X = [[1, 2], [3, 4], [5, 6]]\n",
    "Y = [[7, 8], [9, 10]]"
   ]
  },
  {
   "cell_type": "markdown",
   "id": "747779cc-52dd-46e6-bf81-488a2f970844",
   "metadata": {},
   "source": [
    "Решение без использования NumPy:"
   ]
  },
  {
   "cell_type": "code",
   "execution_count": 27,
   "id": "7fae830a-9e37-4da9-a72d-9b9998542299",
   "metadata": {},
   "outputs": [
    {
     "name": "stdout",
     "output_type": "stream",
     "text": [
      "[[8.48528137423857, 11.313708498984761], [5.656854249492381, 8.48528137423857], [2.8284271247461903, 5.656854249492381]]\n"
     ]
    }
   ],
   "source": [
    "import math\n",
    "\n",
    "def euclidean_distance(point1, point2):\n",
    "    return math.sqrt(sum((a - b) ** 2 for a, b in zip(point1, point2)))\n",
    "\n",
    "def euclidean_distance_matrix(X, Y):\n",
    "    result = []\n",
    "    for x in X:\n",
    "        row = []\n",
    "        for y in Y:\n",
    "            row.append(euclidean_distance(x, y))\n",
    "        result.append(row)\n",
    "    return result\n",
    "\n",
    "dist_matrix = euclidean_distance_matrix(X, Y)\n",
    "print(dist_matrix)\n"
   ]
  },
  {
   "cell_type": "markdown",
   "id": "e3e41200-d1a2-4800-a879-28bd86a6f6cb",
   "metadata": {},
   "source": [
    "Решение с использованием NumPy:"
   ]
  },
  {
   "cell_type": "code",
   "execution_count": 28,
   "id": "34d77915-da5c-403e-ba97-79bb87f18662",
   "metadata": {},
   "outputs": [
    {
     "name": "stdout",
     "output_type": "stream",
     "text": [
      "[[ 8.48528137 11.3137085 ]\n",
      " [ 5.65685425  8.48528137]\n",
      " [ 2.82842712  5.65685425]]\n"
     ]
    }
   ],
   "source": [
    "def euclidean_distance_matrix_numpy(X, Y):\n",
    "    X = np.array(X)\n",
    "    Y = np.array(Y)\n",
    "    return np.sqrt(((X[:, np.newaxis, :] - Y[np.newaxis, :, :]) ** 2).sum(axis=2))\n",
    "\n",
    "\n",
    "dist_matrix_numpy = euclidean_distance_matrix_numpy(X, Y)\n",
    "print(dist_matrix_numpy)\n"
   ]
  },
  {
   "cell_type": "markdown",
   "id": "ed4d6166-0986-4126-9b92-df16a013c1fd",
   "metadata": {},
   "source": [
    "Сравнение с функцией scipy.spatial.distance.cdist:"
   ]
  },
  {
   "cell_type": "code",
   "execution_count": 32,
   "id": "9da65338-bf8c-4fec-9a4e-ec2e603c58a4",
   "metadata": {},
   "outputs": [
    {
     "name": "stdout",
     "output_type": "stream",
     "text": [
      "[[ 8.48528137 11.3137085 ]\n",
      " [ 5.65685425  8.48528137]\n",
      " [ 2.82842712  5.65685425]]\n"
     ]
    }
   ],
   "source": [
    "from scipy.spatial.distance import cdist\n",
    "\n",
    "dist_matrix_scipy = cdist(X, Y, 'euclidean')\n",
    "print(dist_matrix_scipy)\n"
   ]
  },
  {
   "cell_type": "code",
   "execution_count": 33,
   "id": "a9556bd0-7a5c-421d-b580-3c85329ccd56",
   "metadata": {},
   "outputs": [
    {
     "name": "stdout",
     "output_type": "stream",
     "text": [
      "Время выполнения без NumPy: 1.1210448741912842 секунд\n",
      "Время выполнения с NumPy: 0.03130340576171875 секунд\n",
      "Время выполнения с scipy.spatial.distance.cdist: 0.0031232833862304688 секунд\n"
     ]
    }
   ],
   "source": [
    "import time\n",
    "\n",
    "# Создание больших наборов данных для сравнения\n",
    "X_large = np.random.rand(1000, 2).tolist()\n",
    "Y_large = np.random.rand(1000, 2).tolist()\n",
    "\n",
    "# Без использования NumPy\n",
    "start_time = time.time()\n",
    "dist_matrix_no_numpy = euclidean_distance_matrix(X_large, Y_large)\n",
    "end_time = time.time()\n",
    "print(f\"Время выполнения без NumPy: {end_time - start_time} секунд\")\n",
    "\n",
    "# С использованием NumPy\n",
    "X_large_numpy = np.array(X_large)\n",
    "Y_large_numpy = np.array(Y_large)\n",
    "start_time = time.time()\n",
    "dist_matrix_numpy = euclidean_distance_matrix_numpy(X_large_numpy, Y_large_numpy)\n",
    "end_time = time.time()\n",
    "print(f\"Время выполнения с NumPy: {end_time - start_time} секунд\")\n",
    "\n",
    "# С использованием scipy.spatial.distance.cdist\n",
    "start_time = time.time()\n",
    "dist_matrix_scipy = cdist(X_large_numpy, Y_large_numpy, 'euclidean')\n",
    "end_time = time.time()\n",
    "print(f\"Время выполнения с scipy.spatial.distance.cdist: {end_time - start_time} секунд\")"
   ]
  },
  {
   "cell_type": "markdown",
   "id": "973e8064",
   "metadata": {},
   "source": [
    "_______\n",
    "________"
   ]
  },
  {
   "cell_type": "markdown",
   "id": "1104acb7",
   "metadata": {},
   "source": [
    "* #### __Задача 6__: CrunchieMunchies __*__\n",
    "\n",
    "Вы работаете в отделе маркетинга пищевой компании MyCrunch, которая разрабатывает новый вид вкусных, полезных злаков под названием **CrunchieMunchies**.\n",
    "\n",
    "Вы хотите продемонстрировать потребителям, насколько полезны ваши хлопья по сравнению с другими ведущими брендами, поэтому вы собрали данные о питании нескольких разных конкурентов.\n",
    "\n",
    "Ваша задача - использовать вычисления Numpy для анализа этих данных и доказать, что ваши **СrunchieMunchies** - самый здоровый выбор для потребителей.\n"
   ]
  },
  {
   "cell_type": "code",
   "execution_count": 34,
   "id": "10a77f8d",
   "metadata": {},
   "outputs": [],
   "source": [
    "import numpy as np"
   ]
  },
  {
   "cell_type": "markdown",
   "id": "ab87cb03",
   "metadata": {},
   "source": [
    "1. Просмотрите файл cereal.csv. Этот файл содержит количества калорий для различных марок хлопьев. Загрузите данные из файла и сохраните их как calorie_stats."
   ]
  },
  {
   "cell_type": "code",
   "execution_count": 85,
   "id": "9681ebf2",
   "metadata": {},
   "outputs": [
    {
     "data": {
      "text/plain": [
       "array([ 70., 120.,  70.,  50., 110., 110., 110., 130.,  90.,  90., 120.,\n",
       "       110., 120., 110., 110., 110., 100., 110., 110., 110., 100., 110.,\n",
       "       100., 100., 110., 110., 100., 120., 120., 110., 100., 110., 100.,\n",
       "       110., 120., 120., 110., 110., 110., 140., 110., 100., 110., 100.,\n",
       "       150., 150., 160., 100., 120., 140.,  90., 130., 120., 100.,  50.,\n",
       "        50., 100., 100., 120., 100.,  90., 110., 110.,  80.,  90.,  90.,\n",
       "       110., 110.,  90., 110., 140., 100., 110., 110., 100., 100., 110.])"
      ]
     },
     "execution_count": 85,
     "metadata": {},
     "output_type": "execute_result"
    }
   ],
   "source": [
    "calorie_stats = np.loadtxt(\"./data/cereal.csv\", delimiter=\",\")\n",
    "calorie_stats"
   ]
  },
  {
   "cell_type": "markdown",
   "id": "139cfbd8",
   "metadata": {},
   "source": [
    "2. В одной порции CrunchieMunchies содержится 60 калорий. Насколько выше среднее количество калорий у ваших конкурентов?\n",
    "\n",
    "Сохраните ответ в переменной average_calories и распечатайте переменную в терминале"
   ]
  },
  {
   "cell_type": "code",
   "execution_count": 86,
   "id": "7036d240",
   "metadata": {},
   "outputs": [
    {
     "name": "stdout",
     "output_type": "stream",
     "text": [
      "Cреднее количество калорий у конкурентов: 106.88\n",
      "Это на 46.88 выше, чем в одной порции CrunchieMunchies\n"
     ]
    }
   ],
   "source": [
    "average_calories = np.mean(calorie_stats) \n",
    "print(f'Cреднее количество калорий у конкурентов: {average_calories:.2f}')\n",
    "print(f'Это на {average_calories - 60:.2f} выше, чем в одной порции CrunchieMunchies')\n"
   ]
  },
  {
   "cell_type": "markdown",
   "id": "b2ddb4cd",
   "metadata": {},
   "source": [
    "3. Корректно ли среднее количество калорий отражает распределение набора данных? Давайте отсортируем данные и посмотрим.\n",
    "\n",
    "Отсортируйте данные и сохраните результат в переменной calorie_stats_sorted. Распечатайте отсортированную информацию"
   ]
  },
  {
   "cell_type": "code",
   "execution_count": 39,
   "id": "46eeb4ed",
   "metadata": {},
   "outputs": [
    {
     "name": "stdout",
     "output_type": "stream",
     "text": [
      "[ 50.  50.  50.  70.  70.  80.  90.  90.  90.  90.  90.  90.  90. 100.\n",
      " 100. 100. 100. 100. 100. 100. 100. 100. 100. 100. 100. 100. 100. 100.\n",
      " 100. 100. 110. 110. 110. 110. 110. 110. 110. 110. 110. 110. 110. 110.\n",
      " 110. 110. 110. 110. 110. 110. 110. 110. 110. 110. 110. 110. 110. 110.\n",
      " 110. 110. 110. 120. 120. 120. 120. 120. 120. 120. 120. 120. 120. 130.\n",
      " 130. 140. 140. 140. 150. 150. 160.]\n"
     ]
    }
   ],
   "source": [
    "calorie_stats_sorted = np.sort(calorie_stats)\n",
    "print(calorie_stats_sorted)"
   ]
  },
  {
   "cell_type": "markdown",
   "id": "4dc74116",
   "metadata": {},
   "source": [
    "4. Похоже, что большинство значений выше среднего. Давайте посмотрим, является ли медиана наиболее корректным показателем набора данных.\n",
    "\n",
    "Вычислите медиану набора данных и сохраните свой ответ в median_calories. Выведите медиану, чтобы вы могли видеть, как она сравнивается со средним значением."
   ]
  },
  {
   "cell_type": "code",
   "execution_count": 79,
   "id": "b56627c3",
   "metadata": {},
   "outputs": [
    {
     "name": "stdout",
     "output_type": "stream",
     "text": [
      "Медиана количества калорий у конкурентов: 110.00\n"
     ]
    }
   ],
   "source": [
    "median_calories = np.median(calorie_stats)\n",
    "print(f'Медиана количества калорий у конкурентов: {median_calories:.2f}')\n"
   ]
  },
  {
   "cell_type": "markdown",
   "id": "a63ab72f",
   "metadata": {},
   "source": [
    "5. В то время как медиана показывает, что по крайней мере половина наших значений составляет более 100 калорий, было бы более впечатляюще показать, что значительная часть конкурентов имеет более высокое количество калорий, чем CrunchieMunchies.\n",
    "\n",
    "Рассчитайте различные процентили и распечатайте их, пока не найдете наименьший процентиль, превышающий 60 калорий. Сохраните это значение в переменной nth_percentile."
   ]
  },
  {
   "cell_type": "code",
   "execution_count": 63,
   "id": "fe80ce03",
   "metadata": {},
   "outputs": [
    {
     "name": "stdout",
     "output_type": "stream",
     "text": [
      "Наименьший процентиль, превышающий 60 калорий: 4\n"
     ]
    }
   ],
   "source": [
    "percentiles = np.arange(0, 101, 1)\n",
    "calorie_percentiles = np.percentile(calorie_stats, percentiles)\n",
    "index = np.argmax(calorie_percentiles > 60)\n",
    "nth_percentile = percentiles[index]\n",
    "print(f\"Наименьший процентиль, превышающий 60 калорий: {nth_percentile}\")\n"
   ]
  },
  {
   "cell_type": "markdown",
   "id": "a2a3c5aa",
   "metadata": {},
   "source": [
    "6. Хотя процентиль показывает нам, что у большинства конкурентов количество калорий намного выше, это неудобная концепция для использования в маркетинговых материалах.\n",
    "\n",
    "Вместо этого давайте подсчитаем процент хлопьев, в которых содержится более 60 калорий на порцию. Сохраните свой ответ в переменной more_calories и распечатайте его"
   ]
  },
  {
   "cell_type": "code",
   "execution_count": 80,
   "id": "ade0f6ea",
   "metadata": {},
   "outputs": [
    {
     "name": "stdout",
     "output_type": "stream",
     "text": [
      "Процент хлопьев с более чем 60 калориями: 96.10%\n"
     ]
    }
   ],
   "source": [
    "more_calories = np.sum(calorie_stats > 60) / len(calorie_stats) * 100\n",
    "print(f\"Процент хлопьев с более чем 60 калориями: {more_calories:.2f}%\")\n"
   ]
  },
  {
   "cell_type": "markdown",
   "id": "1735d65b",
   "metadata": {},
   "source": [
    "7. Это действительно высокий процент. Это будет очень полезно, когда мы будем продвигать CrunchieMunchies. Но один вопрос заключается в том, насколько велики различия в наборе данных? Можем ли мы сделать обобщение, что в большинстве злаков содержится около 100 калорий или разброс еще больше?\n",
    "\n",
    "Рассчитайте величину отклонения, найдя стандартное отклонение, Сохраните свой ответ в calorie_std и распечатайте на терминале. Как мы можем включить эту ценность в наш анализ?"
   ]
  },
  {
   "cell_type": "code",
   "execution_count": 91,
   "id": "85c8df1f",
   "metadata": {},
   "outputs": [
    {
     "name": "stdout",
     "output_type": "stream",
     "text": [
      "Стандартное отклонение в массиве количества калорий для различных марок хлопьев: 19.36\n",
      "Коэффициент вариации 0.18\n",
      "Объем выборки: 77\n"
     ]
    }
   ],
   "source": [
    "calorie_std = np.std(calorie_stats)\n",
    "coefficient_of_variation = calorie_std / average_calories\n",
    "data_size = len(calorie_stats)\n",
    "print(f\"Стандартное отклонение в массиве количества калорий для различных марок хлопьев: {calorie_std:.2f}\")\n",
    "print(f'Коэффициент вариации {coefficient_of_variation:.2f}')\n",
    "print(f'Объем выборки: {data_size}')"
   ]
  },
  {
   "cell_type": "code",
   "execution_count": 89,
   "id": "1701a1f5-0521-4fc0-83d6-c963e2551c43",
   "metadata": {},
   "outputs": [
    {
     "data": {
      "image/png": "[encoded data removed]",
      "text/plain": [
       "<Figure size 1000x600 with 1 Axes>"
      ]
     },
     "metadata": {},
     "output_type": "display_data"
    }
   ],
   "source": [
    "import matplotlib.pyplot as plt\n",
    "import seaborn as sns\n",
    "\n",
    "# Исходные данные\n",
    "calorie_stats = np.array([70., 120., 70., 50., 110., 110., 110., 130., 90., 90., 120.,\n",
    "                          110., 120., 110., 110., 110., 100., 110., 110., 110., 100., 110.,\n",
    "                          100., 100., 110., 110., 100., 120., 120., 110., 100., 110., 100.,\n",
    "                          110., 120., 120., 110., 110., 110., 140., 110., 100., 110., 100.,\n",
    "                          150., 150., 160., 100., 120., 140., 90., 130., 120., 100., 50.,\n",
    "                          50., 100., 100., 120., 100., 90., 110., 110., 80., 90., 90.,\n",
    "                          110., 110., 90., 110., 140., 100., 110., 110., 100., 100., 110.])\n",
    "\n",
    "# Построение гистограммы\n",
    "plt.figure(figsize=(10, 6))\n",
    "sns.histplot(calorie_stats, bins=15, kde=True, color='skyblue', edgecolor='black')\n",
    "plt.title('Гистограмма распределения калорий')\n",
    "plt.xlabel('Количество калорий')\n",
    "plt.ylabel('Частота')\n",
    "plt.grid(True)\n",
    "plt.show()"
   ]
  },
  {
   "cell_type": "markdown",
   "id": "037455c5",
   "metadata": {},
   "source": [
    "8. Напишите короткий абзац, в котором кратко изложите свои выводы и то, как, по вашему мнению, эти данные могут быть использованы в интересах Mycrunch при маркетинге CrunchieMunchies."
   ]
  },
  {
   "cell_type": "code",
   "execution_count": 167,
   "id": "c260fee9",
   "metadata": {},
   "outputs": [],
   "source": [
    "Анализ набора данных по количеству калорий для различных марок хлопьев конкурентов показал:\n",
    "Объем выборки - 77 значений, распределение близкое к нормальному (незначительная левосторонняя асимметрия).\n",
    "Степень рассеивания данных считается средней, совокупность данных можно считать однородной (коэффициент вариации = 0,18).\n",
    "Рассчитанные показатели говорят о стабильность данных.\n",
    "Калорийность хлопьев СrunchieMunchies всего 60 калорий, в то время как 96.10% хлопьев конкурентов имеет калорийность более чем 60 калорий, что говорит о том, насколько полезны хлопья СrunchieMunchies по сравнению с другими ведущими брендами!"
   ]
  }
 ],
 "metadata": {
  "kernelspec": {
   "display_name": "Python 3 (ipykernel)",
   "language": "python",
   "name": "python3"
  },
  "language_info": {
   "codemirror_mode": {
    "name": "ipython",
    "version": 3
   },
   "file_extension": ".py",
   "mimetype": "text/x-python",
   "name": "python",
   "nbconvert_exporter": "python",
   "pygments_lexer": "ipython3",
   "version": "3.12.2"
  }
 },
 "nbformat": 4,
 "nbformat_minor": 5
}
